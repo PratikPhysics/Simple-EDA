{
 "cells": [
  {
   "attachments": {
    "imdb-logo-2.jpg": {
     "image/jpeg": "[encoded data removed]"
    }
   },
   "cell_type": "markdown",
   "id": "da6afb23",
   "metadata": {},
   "source": [
    "## Assignment | Exploratory Data Analysis of Top 250 IMDb Movies Dataset \n",
    "![imdb-logo-2.jpg](attachment:imdb-logo-2.jpg)\n",
    "\n",
    "## By Pratik Ramteke 😎\n",
    "## Mob. 7588399515 📞"
   ]
  },
  {
   "cell_type": "code",
   "execution_count": 1,
   "id": "f8f76bc7",
   "metadata": {},
   "outputs": [],
   "source": [
    "import numpy as np\n",
    "import pandas as pd\n",
    "import matplotlib.pyplot as plt"
   ]
  },
  {
   "cell_type": "code",
   "execution_count": 2,
   "id": "b61fcb89",
   "metadata": {},
   "outputs": [
    {
     "data": {
      "text/html": [
       "<div>\n",
       "<style scoped>\n",
       "    .dataframe tbody tr th:only-of-type {\n",
       "        vertical-align: middle;\n",
       "    }\n",
       "\n",
       "    .dataframe tbody tr th {\n",
       "        vertical-align: top;\n",
       "    }\n",
       "\n",
       "    .dataframe thead th {\n",
       "        text-align: right;\n",
       "    }\n",
       "</style>\n",
       "<table border=\"1\" class=\"dataframe\">\n",
       "  <thead>\n",
       "    <tr style=\"text-align: right;\">\n",
       "      <th></th>\n",
       "      <th>rank</th>\n",
       "      <th>movie_id</th>\n",
       "      <th>title</th>\n",
       "      <th>year</th>\n",
       "      <th>link</th>\n",
       "      <th>imbd_votes</th>\n",
       "      <th>imbd_rating</th>\n",
       "      <th>certificate</th>\n",
       "      <th>duration</th>\n",
       "      <th>genre</th>\n",
       "      <th>...</th>\n",
       "      <th>director_id</th>\n",
       "      <th>director_name</th>\n",
       "      <th>writer_id</th>\n",
       "      <th>writer_name</th>\n",
       "      <th>storyline</th>\n",
       "      <th>user_id</th>\n",
       "      <th>user_name</th>\n",
       "      <th>review_id</th>\n",
       "      <th>review_title</th>\n",
       "      <th>review_content</th>\n",
       "    </tr>\n",
       "  </thead>\n",
       "  <tbody>\n",
       "    <tr>\n",
       "      <th>0</th>\n",
       "      <td>1</td>\n",
       "      <td>tt0111161</td>\n",
       "      <td>The Shawshank Redemption</td>\n",
       "      <td>1994</td>\n",
       "      <td>https://www.imdb.com/title/tt0111161</td>\n",
       "      <td>2,711,075</td>\n",
       "      <td>9.3</td>\n",
       "      <td>R</td>\n",
       "      <td>2h 22m</td>\n",
       "      <td>Drama</td>\n",
       "      <td>...</td>\n",
       "      <td>nm0001104</td>\n",
       "      <td>Frank Darabont</td>\n",
       "      <td>nm0000175,nm0001104</td>\n",
       "      <td>Stephen King,Frank Darabont</td>\n",
       "      <td>Over the course of several years, two convicts...</td>\n",
       "      <td>ur16161013,ur15311310,ur0265899,ur16117882,ur1...</td>\n",
       "      <td>hitchcockthelegend,Sleepin_Dragon,EyeDunno,ale...</td>\n",
       "      <td>rw2284594,rw6606154,rw1221355,rw1822343,rw1288...</td>\n",
       "      <td>Some birds aren't meant to be caged.,An incred...</td>\n",
       "      <td>The Shawshank Redemption is written and direct...</td>\n",
       "    </tr>\n",
       "    <tr>\n",
       "      <th>1</th>\n",
       "      <td>2</td>\n",
       "      <td>tt0068646</td>\n",
       "      <td>The Godfather</td>\n",
       "      <td>1972</td>\n",
       "      <td>https://www.imdb.com/title/tt0068646</td>\n",
       "      <td>1,882,829</td>\n",
       "      <td>9.2</td>\n",
       "      <td>R</td>\n",
       "      <td>2h 55m</td>\n",
       "      <td>Crime,Drama</td>\n",
       "      <td>...</td>\n",
       "      <td>nm0000338</td>\n",
       "      <td>Francis Ford Coppola</td>\n",
       "      <td>nm0701374,nm0000338</td>\n",
       "      <td>Mario Puzo,Francis Ford Coppola</td>\n",
       "      <td>The aging patriarch of an organized crime dyna...</td>\n",
       "      <td>ur24740649,ur86182727,ur15794099,ur15311310,ur...</td>\n",
       "      <td>CalRhys,andrewburgereviews,gogoschka-1,Sleepin...</td>\n",
       "      <td>rw3038370,rw4756923,rw4059579,rw6568526,rw1897...</td>\n",
       "      <td>The Pinnacle Of Flawless Films!,An offer so go...</td>\n",
       "      <td>'The Godfather' is the pinnacle of flawless fi...</td>\n",
       "    </tr>\n",
       "    <tr>\n",
       "      <th>2</th>\n",
       "      <td>3</td>\n",
       "      <td>tt0468569</td>\n",
       "      <td>The Dark Knight</td>\n",
       "      <td>2008</td>\n",
       "      <td>https://www.imdb.com/title/tt0468569</td>\n",
       "      <td>2,684,051</td>\n",
       "      <td>9.0</td>\n",
       "      <td>PG-13</td>\n",
       "      <td>2h 32m</td>\n",
       "      <td>Action,Crime,Drama</td>\n",
       "      <td>...</td>\n",
       "      <td>nm0634240</td>\n",
       "      <td>Christopher Nolan</td>\n",
       "      <td>tt0468569,nm0634300,nm0634240,nm0275286,tt0468569</td>\n",
       "      <td>Writers,Jonathan Nolan,Christopher Nolan,David...</td>\n",
       "      <td>When the menace known as the Joker wreaks havo...</td>\n",
       "      <td>ur87850731,ur1293485,ur129557514,ur12449122,ur...</td>\n",
       "      <td>MrHeraclius,Smells_Like_Cheese,dseferaj,little...</td>\n",
       "      <td>rw5478826,rw1914442,rw6606026,rw1917099,rw5170...</td>\n",
       "      <td>The Dark Knight,The Batman of our dreams! So m...</td>\n",
       "      <td>Confidently directed, dark, brooding, and pack...</td>\n",
       "    </tr>\n",
       "    <tr>\n",
       "      <th>3</th>\n",
       "      <td>4</td>\n",
       "      <td>tt0071562</td>\n",
       "      <td>The Godfather Part II</td>\n",
       "      <td>1974</td>\n",
       "      <td>https://www.imdb.com/title/tt0071562</td>\n",
       "      <td>1,285,350</td>\n",
       "      <td>9.0</td>\n",
       "      <td>R</td>\n",
       "      <td>3h 22m</td>\n",
       "      <td>Crime,Drama</td>\n",
       "      <td>...</td>\n",
       "      <td>nm0000338</td>\n",
       "      <td>Francis Ford Coppola</td>\n",
       "      <td>nm0000338,nm0701374</td>\n",
       "      <td>Francis Ford Coppola,Mario Puzo</td>\n",
       "      <td>The early life and career of Vito Corleone in ...</td>\n",
       "      <td>ur0176092,ur0688559,ur92260614,ur0200644,ur117...</td>\n",
       "      <td>Nazi_Fighter_David,tfrizzell,umunir-36959,DanB...</td>\n",
       "      <td>rw0135607,rw0135487,rw5049900,rw0135526,rw0135...</td>\n",
       "      <td>Breathtaking in its scope and tragic grandeur....</td>\n",
       "      <td>Coppola's masterpiece is rivaled only by \"The ...</td>\n",
       "    </tr>\n",
       "    <tr>\n",
       "      <th>4</th>\n",
       "      <td>5</td>\n",
       "      <td>tt0050083</td>\n",
       "      <td>12 Angry Men</td>\n",
       "      <td>1957</td>\n",
       "      <td>https://www.imdb.com/title/tt0050083</td>\n",
       "      <td>800,954</td>\n",
       "      <td>9.0</td>\n",
       "      <td>Approved</td>\n",
       "      <td>1h 36m</td>\n",
       "      <td>Crime,Drama</td>\n",
       "      <td>...</td>\n",
       "      <td>nm0001486</td>\n",
       "      <td>Sidney Lumet</td>\n",
       "      <td>nm0741627</td>\n",
       "      <td>Reginald Rose</td>\n",
       "      <td>The jury in a New York City murder trial is fr...</td>\n",
       "      <td>ur1318549,ur0643062,ur0688559,ur20552756,ur945...</td>\n",
       "      <td>uds3,tedg,tfrizzell,TheLittleSongbird,henrique...</td>\n",
       "      <td>rw0060044,rw0060025,rw0060034,rw2262425,rw5448...</td>\n",
       "      <td>The over-used term \"classic movie\" really come...</td>\n",
       "      <td>This once-in-a-generation masterpiece simply h...</td>\n",
       "    </tr>\n",
       "  </tbody>\n",
       "</table>\n",
       "<p>5 rows × 22 columns</p>\n",
       "</div>"
      ],
      "text/plain": [
       "   rank   movie_id                     title  year  \\\n",
       "0     1  tt0111161  The Shawshank Redemption  1994   \n",
       "1     2  tt0068646             The Godfather  1972   \n",
       "2     3  tt0468569           The Dark Knight  2008   \n",
       "3     4  tt0071562     The Godfather Part II  1974   \n",
       "4     5  tt0050083              12 Angry Men  1957   \n",
       "\n",
       "                                   link imbd_votes  imbd_rating certificate  \\\n",
       "0  https://www.imdb.com/title/tt0111161  2,711,075          9.3           R   \n",
       "1  https://www.imdb.com/title/tt0068646  1,882,829          9.2           R   \n",
       "2  https://www.imdb.com/title/tt0468569  2,684,051          9.0       PG-13   \n",
       "3  https://www.imdb.com/title/tt0071562  1,285,350          9.0           R   \n",
       "4  https://www.imdb.com/title/tt0050083    800,954          9.0    Approved   \n",
       "\n",
       "  duration               genre  ... director_id         director_name  \\\n",
       "0   2h 22m               Drama  ...   nm0001104        Frank Darabont   \n",
       "1   2h 55m         Crime,Drama  ...   nm0000338  Francis Ford Coppola   \n",
       "2   2h 32m  Action,Crime,Drama  ...   nm0634240     Christopher Nolan   \n",
       "3   3h 22m         Crime,Drama  ...   nm0000338  Francis Ford Coppola   \n",
       "4   1h 36m         Crime,Drama  ...   nm0001486          Sidney Lumet   \n",
       "\n",
       "                                           writer_id  \\\n",
       "0                                nm0000175,nm0001104   \n",
       "1                                nm0701374,nm0000338   \n",
       "2  tt0468569,nm0634300,nm0634240,nm0275286,tt0468569   \n",
       "3                                nm0000338,nm0701374   \n",
       "4                                          nm0741627   \n",
       "\n",
       "                                         writer_name  \\\n",
       "0                        Stephen King,Frank Darabont   \n",
       "1                    Mario Puzo,Francis Ford Coppola   \n",
       "2  Writers,Jonathan Nolan,Christopher Nolan,David...   \n",
       "3                    Francis Ford Coppola,Mario Puzo   \n",
       "4                                      Reginald Rose   \n",
       "\n",
       "                                           storyline  \\\n",
       "0  Over the course of several years, two convicts...   \n",
       "1  The aging patriarch of an organized crime dyna...   \n",
       "2  When the menace known as the Joker wreaks havo...   \n",
       "3  The early life and career of Vito Corleone in ...   \n",
       "4  The jury in a New York City murder trial is fr...   \n",
       "\n",
       "                                             user_id  \\\n",
       "0  ur16161013,ur15311310,ur0265899,ur16117882,ur1...   \n",
       "1  ur24740649,ur86182727,ur15794099,ur15311310,ur...   \n",
       "2  ur87850731,ur1293485,ur129557514,ur12449122,ur...   \n",
       "3  ur0176092,ur0688559,ur92260614,ur0200644,ur117...   \n",
       "4  ur1318549,ur0643062,ur0688559,ur20552756,ur945...   \n",
       "\n",
       "                                           user_name  \\\n",
       "0  hitchcockthelegend,Sleepin_Dragon,EyeDunno,ale...   \n",
       "1  CalRhys,andrewburgereviews,gogoschka-1,Sleepin...   \n",
       "2  MrHeraclius,Smells_Like_Cheese,dseferaj,little...   \n",
       "3  Nazi_Fighter_David,tfrizzell,umunir-36959,DanB...   \n",
       "4  uds3,tedg,tfrizzell,TheLittleSongbird,henrique...   \n",
       "\n",
       "                                           review_id  \\\n",
       "0  rw2284594,rw6606154,rw1221355,rw1822343,rw1288...   \n",
       "1  rw3038370,rw4756923,rw4059579,rw6568526,rw1897...   \n",
       "2  rw5478826,rw1914442,rw6606026,rw1917099,rw5170...   \n",
       "3  rw0135607,rw0135487,rw5049900,rw0135526,rw0135...   \n",
       "4  rw0060044,rw0060025,rw0060034,rw2262425,rw5448...   \n",
       "\n",
       "                                        review_title  \\\n",
       "0  Some birds aren't meant to be caged.,An incred...   \n",
       "1  The Pinnacle Of Flawless Films!,An offer so go...   \n",
       "2  The Dark Knight,The Batman of our dreams! So m...   \n",
       "3  Breathtaking in its scope and tragic grandeur....   \n",
       "4  The over-used term \"classic movie\" really come...   \n",
       "\n",
       "                                      review_content  \n",
       "0  The Shawshank Redemption is written and direct...  \n",
       "1  'The Godfather' is the pinnacle of flawless fi...  \n",
       "2  Confidently directed, dark, brooding, and pack...  \n",
       "3  Coppola's masterpiece is rivaled only by \"The ...  \n",
       "4  This once-in-a-generation masterpiece simply h...  \n",
       "\n",
       "[5 rows x 22 columns]"
      ]
     },
     "execution_count": 2,
     "metadata": {},
     "output_type": "execute_result"
    }
   ],
   "source": [
    "df = pd.read_csv('movies.csv')\n",
    "df.head()"
   ]
  },
  {
   "cell_type": "code",
   "execution_count": 3,
   "id": "b14463a5",
   "metadata": {},
   "outputs": [
    {
     "name": "stdout",
     "output_type": "stream",
     "text": [
      "<class 'pandas.core.frame.DataFrame'>\n",
      "RangeIndex: 250 entries, 0 to 249\n",
      "Data columns (total 22 columns):\n",
      " #   Column          Non-Null Count  Dtype  \n",
      "---  ------          --------------  -----  \n",
      " 0   rank            250 non-null    int64  \n",
      " 1   movie_id        250 non-null    object \n",
      " 2   title           250 non-null    object \n",
      " 3   year            250 non-null    int64  \n",
      " 4   link            250 non-null    object \n",
      " 5   imbd_votes      250 non-null    object \n",
      " 6   imbd_rating     250 non-null    float64\n",
      " 7   certificate     249 non-null    object \n",
      " 8   duration        250 non-null    object \n",
      " 9   genre           250 non-null    object \n",
      " 10  cast_id         250 non-null    object \n",
      " 11  cast_name       250 non-null    object \n",
      " 12  director_id     250 non-null    object \n",
      " 13  director_name   250 non-null    object \n",
      " 14  writer_id       250 non-null    object \n",
      " 15  writer_name     250 non-null    object \n",
      " 16  storyline       250 non-null    object \n",
      " 17  user_id         250 non-null    object \n",
      " 18  user_name       250 non-null    object \n",
      " 19  review_id       250 non-null    object \n",
      " 20  review_title    250 non-null    object \n",
      " 21  review_content  250 non-null    object \n",
      "dtypes: float64(1), int64(2), object(19)\n",
      "memory usage: 43.1+ KB\n"
     ]
    }
   ],
   "source": [
    "df.info()"
   ]
  },
  {
   "cell_type": "code",
   "execution_count": 5,
   "id": "326c803d",
   "metadata": {},
   "outputs": [
    {
     "data": {
      "text/plain": [
       "Index(['rank', 'movie_id', 'title', 'year', 'link', 'imbd_votes',\n",
       "       'imbd_rating', 'certificate', 'duration', 'genre', 'cast_id',\n",
       "       'cast_name', 'director_id', 'director_name', 'writer_id', 'writer_name',\n",
       "       'storyline', 'user_id', 'user_name', 'review_id', 'review_title',\n",
       "       'review_content'],\n",
       "      dtype='object')"
      ]
     },
     "execution_count": 5,
     "metadata": {},
     "output_type": "execute_result"
    }
   ],
   "source": [
    "df.columns"
   ]
  },
  {
   "cell_type": "markdown",
   "id": "9e796bff",
   "metadata": {},
   "source": [
    "## 1. What is the range of years covered in the dataset?\n"
   ]
  },
  {
   "cell_type": "code",
   "execution_count": 35,
   "id": "773fc960",
   "metadata": {},
   "outputs": [
    {
     "name": "stdout",
     "output_type": "stream",
     "text": [
      "The Range of years covered in the dataset is from 1921 to 2022\n"
     ]
    }
   ],
   "source": [
    "print('The Range of years covered in the dataset is from',df['year'].min(),'to',df['year'].max())"
   ]
  },
  {
   "cell_type": "code",
   "execution_count": null,
   "id": "3e837290",
   "metadata": {},
   "outputs": [],
   "source": []
  },
  {
   "cell_type": "markdown",
   "id": "af95766a",
   "metadata": {},
   "source": [
    "## 2. How does the distribution of IMDb ratings differ between movies with a \"PG\" certification and those with an \"R\" certification?"
   ]
  },
  {
   "cell_type": "code",
   "execution_count": 43,
   "id": "8150edcb",
   "metadata": {},
   "outputs": [],
   "source": [
    "PG_rate = df[df['certificate']==\"PG\"]['imbd_rating']\n",
    "R_rate = df[df['certificate']==\"R\"]['imbd_rating']\n"
   ]
  },
  {
   "cell_type": "code",
   "execution_count": 124,
   "id": "00cd9754",
   "metadata": {},
   "outputs": [
    {
     "data": {
      "image/png": "[encoded data removed]",
      "text/plain": [
       "<Figure size 640x480 with 1 Axes>"
      ]
     },
     "metadata": {},
     "output_type": "display_data"
    }
   ],
   "source": [
    "plt.hist(PG_rate,color='red',alpha = 0.5,density= True,label = 'PG_rate')\n",
    "plt.hist(R_rate,color='blue', alpha = 0.5,density = True,label = 'R_rate')\n",
    "plt.xlabel('Ratings')\n",
    "plt.ylabel('Frequency')\n",
    "plt.legend()\n",
    "plt.grid(alpha=0.2)\n",
    "plt.show()"
   ]
  },
  {
   "cell_type": "code",
   "execution_count": null,
   "id": "86b11039",
   "metadata": {},
   "outputs": [],
   "source": []
  },
  {
   "cell_type": "markdown",
   "id": "72fa029f",
   "metadata": {},
   "source": [
    "## 3. What is the average duration of movies in the dataset?\n"
   ]
  },
  {
   "cell_type": "code",
   "execution_count": 84,
   "id": "4fe70cc7",
   "metadata": {},
   "outputs": [
    {
     "data": {
      "text/plain": [
       "'2h 22m'"
      ]
     },
     "execution_count": 84,
     "metadata": {},
     "output_type": "execute_result"
    }
   ],
   "source": [
    "df['duration'][0] # the values in the duration column are not numeric, therefore we can't find the average\n",
    "                  # therefore i'll create a function that takes in '2h 44m' and converts it into 120 + 44 = 164 mintutes"
   ]
  },
  {
   "cell_type": "code",
   "execution_count": 88,
   "id": "afb57298",
   "metadata": {},
   "outputs": [],
   "source": [
    "# the function to convert, \n",
    "'''Since the values are messy , such as some are ' 2h 2m' , '33m', '2h', '2h 44m' ..we need to calibrate the function for such incoming \n",
    "parameters with inconsistant spaces and formats'''\n",
    "def convert_to_minute(t):\n",
    "    t = t.strip()\n",
    "    if len(t)==6 or len(t)==5 :\n",
    "        a = int(t.split('h')[0])*60\n",
    "        b = int(t.split(' ')[1].split('m')[0])\n",
    "        c = a+b\n",
    "    else:\n",
    "        if t[-1]=='h':\n",
    "            c = int(t.split('h')[0])*60\n",
    "\n",
    "        elif t[-1]=='m':\n",
    "            c = int(t.split('m')[0])\n",
    "    return c\n",
    "\n"
   ]
  },
  {
   "cell_type": "code",
   "execution_count": 93,
   "id": "f6253163",
   "metadata": {},
   "outputs": [
    {
     "data": {
      "text/plain": [
       "129.132"
      ]
     },
     "execution_count": 93,
     "metadata": {},
     "output_type": "execute_result"
    }
   ],
   "source": [
    "avg_duration = df['duration'].apply(convert_to_minute).sum()/len(df)\n",
    "avg_duration #2h 9m"
   ]
  },
  {
   "cell_type": "code",
   "execution_count": 127,
   "id": "26ca3d75",
   "metadata": {},
   "outputs": [
    {
     "name": "stdout",
     "output_type": "stream",
     "text": [
      "The Average duration of the movies in the dateset is 129.132  minutes #2h 9m\n"
     ]
    }
   ],
   "source": [
    "print('The Average duration of the movies in the dateset is',avg_duration,' minutes #2h 9m')"
   ]
  },
  {
   "cell_type": "code",
   "execution_count": null,
   "id": "534d3174",
   "metadata": {},
   "outputs": [],
   "source": []
  },
  {
   "cell_type": "markdown",
   "id": "91dac8e0",
   "metadata": {},
   "source": [
    "## 4. Which movie has the highest IMDb rating?\n"
   ]
  },
  {
   "cell_type": "code",
   "execution_count": 105,
   "id": "bc859f61",
   "metadata": {},
   "outputs": [],
   "source": [
    "high_rate_movie = df[df['imbd_rating']== df.imbd_rating.max()]['title'][0]"
   ]
  },
  {
   "cell_type": "code",
   "execution_count": 106,
   "id": "b894ebeb",
   "metadata": {},
   "outputs": [
    {
     "name": "stdout",
     "output_type": "stream",
     "text": [
      "The highest IMDb Rating goes to The Shawshank Redemption\n"
     ]
    }
   ],
   "source": [
    "print('The highest IMDb Rating goes to',high_rate_movie)"
   ]
  },
  {
   "cell_type": "markdown",
   "id": "6186d84b",
   "metadata": {},
   "source": [
    "## 5. How many movies have IMDb ratings above 8.5?"
   ]
  },
  {
   "cell_type": "code",
   "execution_count": 109,
   "id": "2c5131af",
   "metadata": {},
   "outputs": [
    {
     "data": {
      "text/plain": [
       "32"
      ]
     },
     "execution_count": 109,
     "metadata": {},
     "output_type": "execute_result"
    }
   ],
   "source": [
    "len(df[df['imbd_rating']>8.5])"
   ]
  },
  {
   "cell_type": "code",
   "execution_count": null,
   "id": "323ebe93",
   "metadata": {},
   "outputs": [],
   "source": []
  },
  {
   "cell_type": "markdown",
   "id": "d646ccc8",
   "metadata": {},
   "source": [
    "## 6. What is the most common movie certification?"
   ]
  },
  {
   "cell_type": "code",
   "execution_count": 134,
   "id": "5ce1d7bd",
   "metadata": {},
   "outputs": [
    {
     "data": {
      "text/plain": [
       "'R'"
      ]
     },
     "execution_count": 134,
     "metadata": {},
     "output_type": "execute_result"
    }
   ],
   "source": [
    "df['certificate'].mode()[0]"
   ]
  },
  {
   "cell_type": "code",
   "execution_count": null,
   "id": "99249c43",
   "metadata": {},
   "outputs": [],
   "source": []
  },
  {
   "cell_type": "markdown",
   "id": "af2d4587",
   "metadata": {},
   "source": [
    "## 7. How many movies fall under the \"Drama\" genre?\n"
   ]
  },
  {
   "cell_type": "code",
   "execution_count": 150,
   "id": "312d19c8",
   "metadata": {},
   "outputs": [
    {
     "data": {
      "text/plain": [
       "177"
      ]
     },
     "execution_count": 150,
     "metadata": {},
     "output_type": "execute_result"
    }
   ],
   "source": [
    "a = []\n",
    "for i in list(df['genre']):\n",
    "    a.append(i.count('Drama'))\n",
    "sum(a)"
   ]
  },
  {
   "cell_type": "code",
   "execution_count": null,
   "id": "52afb0ac",
   "metadata": {},
   "outputs": [],
   "source": []
  },
  {
   "cell_type": "markdown",
   "id": "a93b8149",
   "metadata": {},
   "source": [
    "## 8. What is the distribution of movie durations in the dataset?"
   ]
  },
  {
   "cell_type": "code",
   "execution_count": 156,
   "id": "1f5ea456",
   "metadata": {},
   "outputs": [
    {
     "data": {
      "text/plain": [
       "(array([ 1.,  5., 44., 63., 65., 34., 24.,  7.,  5.,  2.]),\n",
       " array([ 45. ,  64.3,  83.6, 102.9, 122.2, 141.5, 160.8, 180.1, 199.4,\n",
       "        218.7, 238. ]),\n",
       " <BarContainer object of 10 artists>)"
      ]
     },
     "execution_count": 156,
     "metadata": {},
     "output_type": "execute_result"
    },
    {
     "data": {
      "image/png": "[encoded data removed]",
      "text/plain": [
       "<Figure size 640x480 with 1 Axes>"
      ]
     },
     "metadata": {},
     "output_type": "display_data"
    }
   ],
   "source": [
    "plt.hist(df['duration'].apply(convert_to_minute),alpha=0.4,color = 'red')"
   ]
  },
  {
   "cell_type": "code",
   "execution_count": null,
   "id": "dc30bbea",
   "metadata": {},
   "outputs": [],
   "source": []
  },
  {
   "cell_type": "code",
   "execution_count": null,
   "id": "66f760f8",
   "metadata": {},
   "outputs": [],
   "source": []
  },
  {
   "cell_type": "markdown",
   "id": "0c3e1cee",
   "metadata": {},
   "source": [
    "## 9. How many movies were released in the 1970s?\n"
   ]
  },
  {
   "cell_type": "code",
   "execution_count": 158,
   "id": "b5d7f4aa",
   "metadata": {},
   "outputs": [
    {
     "data": {
      "text/plain": [
       "0"
      ]
     },
     "execution_count": 158,
     "metadata": {},
     "output_type": "execute_result"
    }
   ],
   "source": [
    "len(df[df['year']==1970])"
   ]
  },
  {
   "cell_type": "code",
   "execution_count": null,
   "id": "9b85186d",
   "metadata": {},
   "outputs": [],
   "source": []
  },
  {
   "cell_type": "code",
   "execution_count": null,
   "id": "6ab61c4a",
   "metadata": {},
   "outputs": [],
   "source": []
  },
  {
   "cell_type": "markdown",
   "id": "e5327aca",
   "metadata": {},
   "source": [
    "## 10. Which genre has the highest average IMDb rating?"
   ]
  },
  {
   "cell_type": "code",
   "execution_count": 161,
   "id": "1083c5e5",
   "metadata": {},
   "outputs": [
    {
     "data": {
      "text/plain": [
       "'Drama'"
      ]
     },
     "execution_count": 161,
     "metadata": {},
     "output_type": "execute_result"
    }
   ],
   "source": [
    "df[df['imbd_rating']==df['imbd_rating'].max()]['genre'][0]"
   ]
  },
  {
   "cell_type": "code",
   "execution_count": null,
   "id": "6c1a51d8",
   "metadata": {},
   "outputs": [],
   "source": []
  },
  {
   "cell_type": "code",
   "execution_count": null,
   "id": "7e3ac271",
   "metadata": {},
   "outputs": [],
   "source": []
  },
  {
   "cell_type": "markdown",
   "id": "97944d82",
   "metadata": {},
   "source": [
    "## 11. What is the median IMDb rating of the movies?\n"
   ]
  },
  {
   "cell_type": "code",
   "execution_count": 162,
   "id": "400f64bc",
   "metadata": {},
   "outputs": [
    {
     "data": {
      "text/plain": [
       "8.2"
      ]
     },
     "execution_count": 162,
     "metadata": {},
     "output_type": "execute_result"
    }
   ],
   "source": [
    "df.imbd_rating.median()"
   ]
  },
  {
   "cell_type": "code",
   "execution_count": null,
   "id": "b2a06db9",
   "metadata": {},
   "outputs": [],
   "source": []
  },
  {
   "cell_type": "code",
   "execution_count": null,
   "id": "7d570c47",
   "metadata": {},
   "outputs": [],
   "source": []
  },
  {
   "cell_type": "markdown",
   "id": "dd7bf2a6",
   "metadata": {},
   "source": [
    "## 12. How many movies have IMDb ratings between 8.0 and 8.5?"
   ]
  },
  {
   "cell_type": "code",
   "execution_count": 168,
   "id": "5569ab6c",
   "metadata": {},
   "outputs": [
    {
     "data": {
      "text/plain": [
       "191"
      ]
     },
     "execution_count": 168,
     "metadata": {},
     "output_type": "execute_result"
    }
   ],
   "source": [
    "len(df[(df['imbd_rating']>8.0) & (df['imbd_rating']<8.5)])"
   ]
  },
  {
   "cell_type": "code",
   "execution_count": null,
   "id": "cbc172a8",
   "metadata": {},
   "outputs": [],
   "source": []
  },
  {
   "cell_type": "code",
   "execution_count": null,
   "id": "80be5a18",
   "metadata": {},
   "outputs": [],
   "source": []
  },
  {
   "cell_type": "markdown",
   "id": "82805dcb",
   "metadata": {},
   "source": [
    "## 13. What is the average number of IMDb votes for movies in the dataset?"
   ]
  },
  {
   "cell_type": "code",
   "execution_count": 178,
   "id": "3323e154",
   "metadata": {},
   "outputs": [
    {
     "data": {
      "text/plain": [
       "647779.42"
      ]
     },
     "execution_count": 178,
     "metadata": {},
     "output_type": "execute_result"
    }
   ],
   "source": [
    "df['imbd_votes'].str.replace(',','').astype('int').mean()"
   ]
  },
  {
   "cell_type": "code",
   "execution_count": null,
   "id": "ae29b049",
   "metadata": {},
   "outputs": [],
   "source": []
  },
  {
   "cell_type": "code",
   "execution_count": null,
   "id": "7f18d8e9",
   "metadata": {},
   "outputs": [],
   "source": []
  },
  {
   "cell_type": "markdown",
   "id": "6b8cbd4b",
   "metadata": {},
   "source": [
    "## 14. How many movies have a duration of exactly 2 hours?\n"
   ]
  },
  {
   "cell_type": "code",
   "execution_count": 182,
   "id": "ce596dc4",
   "metadata": {},
   "outputs": [
    {
     "data": {
      "text/plain": [
       "4"
      ]
     },
     "execution_count": 182,
     "metadata": {},
     "output_type": "execute_result"
    }
   ],
   "source": [
    "len(df[df['duration']==\"2h\"])"
   ]
  },
  {
   "cell_type": "code",
   "execution_count": null,
   "id": "c87442fd",
   "metadata": {},
   "outputs": [],
   "source": []
  },
  {
   "cell_type": "markdown",
   "id": "84dec77f",
   "metadata": {},
   "source": [
    "## 15. What is the distribution of IMDb ratings across different certification types?"
   ]
  },
  {
   "cell_type": "code",
   "execution_count": 198,
   "id": "6c7f16e3",
   "metadata": {},
   "outputs": [
    {
     "data": {
      "image/png": "[encoded data removed]",
      "text/plain": [
       "<Figure size 1000x600 with 1 Axes>"
      ]
     },
     "metadata": {},
     "output_type": "display_data"
    }
   ],
   "source": [
    "import matplotlib.pyplot as plt\n",
    "import seaborn as sns\n",
    "\n",
    "\n",
    "\n",
    "\n",
    "plt.figure(figsize=(10, 6))\n",
    "sns.histplot(data=df, x='imbd_rating', hue='certificate', multiple=\"stack\")\n",
    "\n",
    "\n",
    "legend_labels = {'PG': 'Parental Guidance', 'R': 'Restricted', 'G': 'General Audience', 'PG-13': 'Parents Strongly Cautioned'}\n",
    "plt.legend(title='Certification', labels=legend_labels.values(), loc='upper right')\n",
    "\n",
    "plt.xlabel('IMDb Rating')\n",
    "plt.ylabel('Frequency')\n",
    "plt.title('Distribution of IMDb Ratings Across Different Certification Types')\n",
    "plt.show()\n"
   ]
  },
  {
   "cell_type": "code",
   "execution_count": null,
   "id": "3950f3e9",
   "metadata": {},
   "outputs": [],
   "source": []
  },
  {
   "cell_type": "code",
   "execution_count": null,
   "id": "3096faf5",
   "metadata": {},
   "outputs": [],
   "source": []
  },
  {
   "cell_type": "markdown",
   "id": "b2ab653d",
   "metadata": {},
   "source": [
    "## 16. How many movies have IMDb ratings above 9.0 and fall under the \"Drama\" genre?"
   ]
  },
  {
   "cell_type": "code",
   "execution_count": 206,
   "id": "bbdc2576",
   "metadata": {},
   "outputs": [
    {
     "data": {
      "text/plain": [
       "1"
      ]
     },
     "execution_count": 206,
     "metadata": {},
     "output_type": "execute_result"
    }
   ],
   "source": [
    "df_d = df[(df['genre']==\"Drama\")]\n",
    "len(df_d[df_d['imbd_rating']>9.0]) # there is only one movie"
   ]
  },
  {
   "cell_type": "code",
   "execution_count": null,
   "id": "586fbe8c",
   "metadata": {},
   "outputs": [],
   "source": []
  },
  {
   "cell_type": "markdown",
   "id": "1d95af64",
   "metadata": {},
   "source": [
    "## 17. What is the most common IMDb rating range among the movies?"
   ]
  },
  {
   "cell_type": "code",
   "execution_count": 208,
   "id": "ea97e10c",
   "metadata": {},
   "outputs": [
    {
     "data": {
      "text/plain": [
       "8.1"
      ]
     },
     "execution_count": 208,
     "metadata": {},
     "output_type": "execute_result"
    }
   ],
   "source": [
    "df.imbd_rating.mode()[0]"
   ]
  },
  {
   "cell_type": "code",
   "execution_count": null,
   "id": "149a4105",
   "metadata": {},
   "outputs": [],
   "source": []
  },
  {
   "cell_type": "markdown",
   "id": "1d29fe58",
   "metadata": {},
   "source": [
    "## 18. How many movies have IMDb ratings between 8.0 and 9.0 and are certified as \"R\"?"
   ]
  },
  {
   "cell_type": "code",
   "execution_count": 213,
   "id": "d45ec9f3",
   "metadata": {},
   "outputs": [
    {
     "data": {
      "text/plain": [
       "93"
      ]
     },
     "execution_count": 213,
     "metadata": {},
     "output_type": "execute_result"
    }
   ],
   "source": [
    "df_r = df[df['certificate']==\"R\"]\n",
    "len(df_r[df_r['imbd_rating']<9.0]) # All the movies have rating above 8.0 anyways!"
   ]
  },
  {
   "cell_type": "code",
   "execution_count": null,
   "id": "819ecbf7",
   "metadata": {},
   "outputs": [],
   "source": []
  },
  {
   "cell_type": "markdown",
   "id": "5023b8c2",
   "metadata": {},
   "source": [
    "## 19. How does the distribution of IMDb ratings vary across different decades?\n"
   ]
  },
  {
   "cell_type": "code",
   "execution_count": 218,
   "id": "1baa56a0",
   "metadata": {},
   "outputs": [
    {
     "data": {
      "image/png": "[encoded data removed]",
      "text/plain": [
       "<Figure size 1000x600 with 1 Axes>"
      ]
     },
     "metadata": {},
     "output_type": "display_data"
    }
   ],
   "source": [
    "\n",
    "\n",
    "df['decade'] = (df['year'] // 10) * 10\n",
    "\n",
    "plt.figure(figsize=(10, 6))\n",
    "sns.histplot(data=df, x='imbd_rating', hue='decade', multiple=\"stack\")\n",
    "\n",
    "\n",
    "legend_labels = {year: f\"{year}s\" for year in sorted(df['decade'].unique())}\n",
    "plt.legend(title='Decade', labels=legend_labels.values(), loc='upper right')\n",
    "\n",
    "plt.xlabel('IMDb Rating')\n",
    "plt.ylabel('Frequency')\n",
    "plt.title('Distribution of IMDb Ratings Across Different Decades')\n",
    "plt.show()\n"
   ]
  },
  {
   "cell_type": "code",
   "execution_count": null,
   "id": "4c386d48",
   "metadata": {},
   "outputs": [],
   "source": []
  },
  {
   "cell_type": "code",
   "execution_count": null,
   "id": "d0693043",
   "metadata": {},
   "outputs": [],
   "source": []
  },
  {
   "cell_type": "markdown",
   "id": "b60d0967",
   "metadata": {},
   "source": [
    "## 20. Which movie has the longest duration and what is it's IMDb rating?"
   ]
  },
  {
   "cell_type": "code",
   "execution_count": 233,
   "id": "85de9e2c",
   "metadata": {},
   "outputs": [
    {
     "data": {
      "text/plain": [
       "238"
      ]
     },
     "execution_count": 233,
     "metadata": {},
     "output_type": "execute_result"
    }
   ],
   "source": [
    "df['dur_in_mins'] = df.duration.apply(convert_to_minute)\n",
    "df['dur_in_mins'].max()"
   ]
  },
  {
   "cell_type": "code",
   "execution_count": 247,
   "id": "744aaef4",
   "metadata": {},
   "outputs": [
    {
     "data": {
      "text/plain": [
       "'Gone with the Wind'"
      ]
     },
     "execution_count": 247,
     "metadata": {},
     "output_type": "execute_result"
    }
   ],
   "source": [
    "df[df['dur_in_mins']==df['dur_in_mins'].max()]['title'][158]"
   ]
  },
  {
   "cell_type": "code",
   "execution_count": null,
   "id": "5f036941",
   "metadata": {},
   "outputs": [],
   "source": []
  }
 ],
 "metadata": {
  "kernelspec": {
   "display_name": "Python 3 (ipykernel)",
   "language": "python",
   "name": "python3"
  },
  "language_info": {
   "codemirror_mode": {
    "name": "ipython",
    "version": 3
   },
   "file_extension": ".py",
   "mimetype": "text/x-python",
   "name": "python",
   "nbconvert_exporter": "python",
   "pygments_lexer": "ipython3",
   "version": "3.10.9"
  }
 },
 "nbformat": 4,
 "nbformat_minor": 5
}
